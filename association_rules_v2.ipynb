{
 "cells": [
  {
   "cell_type": "markdown",
   "id": "956eeea2",
   "metadata": {},
   "source": [
    "# Phân tích điểm thi THPT quốc gia 2017–2024\n",
    "**Nội dung chính**  \n",
    "1. Đọc và chuẩn hóa dữ liệu  \n",
    "2. Làm sạch dữ liệu  \n",
    "3. Gán cấp độ học lực theo môn  \n",
    "4. Khai phá luật kết hợp (Association Rules)  \n",
    "5. Trực quan phân bố cấp độ  \n",
    "6. Kết luận & lưu kết quả  \n"
   ]
  },
  {
   "cell_type": "code",
   "execution_count": 1,
   "id": "88285541",
   "metadata": {},
   "outputs": [
    {
     "name": "stderr",
     "output_type": "stream",
     "text": [
      "C:\\Users\\PC\\AppData\\Local\\Temp\\ipykernel_56956\\1487105546.py:1: DeprecationWarning: \n",
      "Pyarrow will become a required dependency of pandas in the next major release of pandas (pandas 3.0),\n",
      "(to allow more performant data types, such as the Arrow string type, and better interoperability with other libraries)\n",
      "but was not found to be installed on your system.\n",
      "If this would cause problems for you,\n",
      "please provide us feedback at https://github.com/pandas-dev/pandas/issues/54466\n",
      "        \n",
      "  import pandas as pd\n"
     ]
    }
   ],
   "source": [
    "import pandas as pd\n",
    "import seaborn as sns\n",
    "import matplotlib.pyplot as plt\n",
    "from sklearn.linear_model import LinearRegression\n",
    "from sklearn.model_selection import train_test_split\n",
    "from sklearn.metrics import r2_score, root_mean_squared_error\n",
    "import warnings\n",
    "import numpy as np\n",
    "from mlxtend.preprocessing import TransactionEncoder\n",
    "from mlxtend.frequent_patterns import fpgrowth, association_rules, apriori\n",
    "\n",
    "warnings.filterwarnings('ignore')"
   ]
  },
  {
   "cell_type": "markdown",
   "id": "946e7c51",
   "metadata": {},
   "source": [
    "## 1. Đọc và chuẩn hóa dữ liệu\n",
    "- Đọc file CSV  \n",
    "- Đổi tên cột  \n",
    "- Chuyển các điểm thi về kiểu số  \n",
    "- Tạo thêm cột tên tỉnh\n"
   ]
  },
  {
   "cell_type": "code",
   "execution_count": 2,
   "id": "331cc2a9",
   "metadata": {},
   "outputs": [],
   "source": [
    "# Đọc dữ liệu\n",
    "df = pd.read_csv(\"datasets/du_lieu_diem_thi_2017_2024.csv\")\n",
    "\n",
    "# Đổi tên cột cho dễ làm việc\n",
    "df.columns = ['nam', 'ma_tinh', 'sbd', 'toan', 'van', 'ly', 'hoa', 'sinh',\n",
    "              'su', 'dia', 'gdcd', 'nn', 'ma_nn', 'tong_diem',\n",
    "              'khoi_a', 'khoi_a1', 'khoi_b', 'khoi_c', 'khoi_d']\n",
    "\n",
    "# Chuyển các cột điểm về kiểu số\n",
    "cols_diem = ['toan', 'van', 'ly', 'hoa', 'sinh', 'su', 'dia', 'gdcd', 'nn',\n",
    "             'tong_diem', 'khoi_a', 'khoi_a1', 'khoi_b', 'khoi_c', 'khoi_d']\n",
    "df[cols_diem] = df[cols_diem].apply(pd.to_numeric, errors = 'coerce')\n",
    "\n",
    "# Tạo cột tỉnh từ mã tỉnh\n",
    "ma_tinh = {\n",
    "    '01': 'Hà Nội', '02': 'TP. Hồ Chí Minh', '03': 'Hải Phòng', '04': 'Đà Nẵng',\n",
    "    '05': 'Hà Giang', '06': 'Cao Bằng', '07': 'Lai Châu', '08': 'Lào Cai',\n",
    "    '09': 'Tuyên Quang', '10': 'Lạng Sơn', '11': 'Bắc Kạn', '12': 'Thái Nguyên',\n",
    "    '13': 'Yên Bái', '14': 'Sơn La', '15': 'Phú Thọ', '16': 'Vĩnh Phúc',\n",
    "    '17': 'Quảng Ninh', '18': 'Bắc Giang', '19': 'Bắc Ninh', '21': 'Hải Dương',\n",
    "    '22': 'Hưng Yên', '23': 'Hòa Bình', '24': 'Hà Nam', '25': 'Nam Định',\n",
    "    '26': 'Thái Bình', '27': 'Ninh Bình', '28': 'Thanh Hóa', '29': 'Nghệ An',\n",
    "    '30': 'Hà Tĩnh', '31': 'Quảng Bình', '32': 'Quảng Trị', '33': 'Thừa Thiên-Huế',\n",
    "    '34': 'Quảng Nam', '35': 'Quảng Ngãi', '36': 'Kon Tum', '37': 'Bình Định',\n",
    "    '38': 'Gia Lai', '39': 'Phú Yên', '40': 'Đắk Lắk', '41': 'Khánh Hòa',\n",
    "    '42': 'Lâm Đồng', '43': 'Bình Phước', '44': 'Bình Dương', '45': 'Ninh Thuận',\n",
    "    '46': 'Tây Ninh', '47': 'Bình Thuận', '48': 'Đồng Nai', '49': 'Long An',\n",
    "    '50': 'Đồng Tháp', '51': 'An Giang', '52': 'Bà Rịa-Vũng Tàu', '53': 'Tiền Giang',\n",
    "    '54': 'Kiên Giang', '55': 'Cần Thơ', '56': 'Bến Tre', '57': 'Vĩnh Long',\n",
    "    '58': 'Trà Vinh', '59': 'Sóc Trăng', '60': 'Bạc Liêu', '61': 'Cà Mau',\n",
    "    '62': 'Điện Biên', '63': 'Đắk Nông', '64': 'Hậu Giang'\n",
    "}\n",
    "\n",
    "df['ma_tinh_str'] = df['ma_tinh'].astype(str).str.zfill(2)\n",
    "df['tinh'] = df['ma_tinh_str'].map(ma_tinh)"
   ]
  },
  {
   "cell_type": "markdown",
   "id": "e57efb18",
   "metadata": {},
   "source": [
    "## 2. Làm sạch dữ liệu\n",
    "- Loại bỏ dòng thiếu điểm Toán, Văn, Ngoại ngữ  \n",
    "- Lọc học sinh không có tổng điểm  \n",
    "- Loại bỏ bản ghi trùng lặp  \n",
    "- Shuffle dữ liệu trước khi tiếp tục phân tích\n"
   ]
  },
  {
   "cell_type": "code",
   "execution_count": 3,
   "id": "03c4390c",
   "metadata": {},
   "outputs": [
    {
     "name": "stdout",
     "output_type": "stream",
     "text": [
      "Số dòng ban đầu: 7609969\n",
      "Số dòng sau khi loại bỏ dòng không có điểm Toán, Văn, Ngoại ngữ: 6629910\n",
      "Số dòng sau khi lọc học sinh không có tổng điểm: 6579989\n",
      "Số dòng sau khi loại bỏ dòng trùng lặp: 6569125\n",
      "|    |   nam |   ma_tinh |   sbd |   toan |   van |     ly |    hoa |   sinh |     su |    dia |   gdcd |   nn | ma_nn   |   tong_diem |   khoi_a |   khoi_a1 |   khoi_b |   khoi_c |   khoi_d |   ma_tinh_str | tinh            |\n",
      "|---:|------:|----------:|------:|-------:|------:|-------:|-------:|-------:|-------:|-------:|-------:|-----:|:--------|------------:|---------:|----------:|---------:|---------:|---------:|--------------:|:----------------|\n",
      "|  0 |    17 |         2 |  2464 |    8.2 |  4.5  |   8    |   5.25 |    5   | nan    | nan    | nan    |  8.2 | nan     |       39.15 |    21.45 |     24.4  |    18.45 |   nan    |    20.9  |            02 | TP. Hồ Chí Minh |\n",
      "|  1 |    23 |        48 |  9389 |    8.4 |  5    |   7.5  |   8    |    4.5 | nan    | nan    | nan    |  5.2 | N1      |       38.6  |    23.9  |     21.1  |    20.9  |   nan    |    18.6  |            48 | Đồng Nai        |\n",
      "|  2 |    22 |        49 |  8861 |    4.8 |  5.75 | nan    | nan    |  nan   |   5    |   5    |   6.5  |  4.8 | nan     |       31.85 |   nan    |    nan    |   nan    |    15.75 |    15.35 |            49 | Long An         |\n",
      "|  3 |    24 |         1 |   224 |    8.6 |  8.5  |   7.25 |   9.25 |    8.5 | nan    | nan    | nan    |  9.2 | N1      |       51.3  |    25.1  |     25.05 |    26.35 |   nan    |    26.3  |            01 | Hà Nội          |\n",
      "|  4 |    24 |        23 |  7375 |    4.4 |  6.75 | nan    | nan    |  nan   |   5.5  |   6.75 |   7.25 |  2.8 | N1      |       33.45 |   nan    |    nan    |   nan    |    19    |    13.95 |            23 | Hòa Bình        |\n",
      "|  5 |    18 |         1 | 36199 |    4.8 |  6.25 | nan    | nan    |  nan   |   3.25 |   4.75 |   6    |  3.4 | nan     |       28.45 |   nan    |    nan    |   nan    |    14.25 |    14.45 |            01 | Hà Nội          |\n",
      "|  6 |    18 |        29 | 22083 |    3.6 |  7    | nan    | nan    |  nan   |   7.5  |   8    |   6.75 |  3.6 | nan     |       36.45 |   nan    |    nan    |   nan    |    22.5  |    14.2  |            29 | Nghệ An         |\n",
      "|  7 |    18 |        57 |    96 |    6   |  9    | nan    | nan    |  nan   |   6.5  |   7.25 |   8.75 |  6.6 | nan     |       44.1  |   nan    |    nan    |   nan    |    22.75 |    21.6  |            57 | Vĩnh Long       |\n",
      "|  8 |    22 |        10 |  7049 |    3.6 |  7.25 | nan    | nan    |  nan   |   7    |   5    |   9    |  4   | nan     |       35.85 |   nan    |    nan    |   nan    |    19.25 |    14.85 |            10 | Lạng Sơn        |\n",
      "|  9 |    21 |        55 |  7867 |    7.6 |  7.5  |   8    |   7    |    7.5 | nan    | nan    | nan    |  7.4 | nan     |       45    |    22.6  |     23    |    22.1  |   nan    |    22.5  |            55 | Cần Thơ         |\n"
     ]
    }
   ],
   "source": [
    "print(\"Số dòng ban đầu:\", len(df))\n",
    "\n",
    "# Loại bỏ dòng không có điểm Toán, Văn, Ngoại ngữ (3 Môn thi bắt buộc nên nếu không có thì khả năng cao là không hợp lệ)\n",
    "df = df[df[['toan', 'van', 'nn']].notna().all(axis = 1)]\n",
    "print(\"Số dòng sau khi loại bỏ dòng không có điểm Toán, Văn, Ngoại ngữ:\", len(df))\n",
    "\n",
    "# Lọc học sinh không có tổng điểm\n",
    "df = df[df['tong_diem'].notna()]\n",
    "print(f\"Số dòng sau khi lọc học sinh không có tổng điểm: {len(df)}\")\n",
    "\n",
    "# Kiểm tra và loại bỏ dòng trùng lặp\n",
    "df = df.drop_duplicates()\n",
    "print(f\"Số dòng sau khi loại bỏ dòng trùng lặp: {len(df)}\")\n",
    "# Shuffle dữ liệu\n",
    "df = df.sample(frac = 1, random_state = 42).reset_index(drop = True)\n",
    "df.head(10)\n",
    "print(df.head(10).to_markdown())"
   ]
  },
  {
   "cell_type": "markdown",
   "id": "d8ecbeaa",
   "metadata": {},
   "source": [
    "- Chia tách thành hai tập con: KHTN & KHXH"
   ]
  },
  {
   "cell_type": "code",
   "execution_count": null,
   "id": "a2f7b04e",
   "metadata": {},
   "outputs": [
    {
     "name": "stdout",
     "output_type": "stream",
     "text": [
      "KHTN rows: 2486137, KHXH rows: 3959142, total: 6569125\n"
     ]
    }
   ],
   "source": [
    "df_khtn = df.loc[df[['su','dia','gdcd']].isna().all(axis=1)]\n",
    "df_khxh = df.loc[df[['ly','hoa','sinh']].isna().all(axis=1)]\n",
    "print(f\"KHTN rows: {len(df_khtn)}, KHXH rows: {len(df_khxh)}, total: {len(df)}\")\n"
   ]
  },
  {
   "cell_type": "markdown",
   "id": "7c261608",
   "metadata": {},
   "source": [
    "## 3. Gán cấp độ học lực theo môn <a id=\"section-level\"></a>\n",
    "\n",
    "- Sử dụng `pd.cut` (vectorized) để phân nhóm:\n",
    "  - `XuatSac` (≥ 9)\n",
    "  - `Gioi` (≥ 8 & < 9)\n",
    "  - `Kha` (≥ 7 & < 8)\n",
    "  - `TrungBinh` (≥ 6.5 & < 7)\n",
    "  - `Kem` (< 5)\n",
    "- Kết quả lưu vào DataFrame `df_levels`"
   ]
  },
  {
   "cell_type": "code",
   "execution_count": null,
   "id": "4b557425",
   "metadata": {},
   "outputs": [],
   "source": [
    "\n",
    "# 2) Vectorized level mapping for all subjects\n",
    "subjects = ['toan','ly','hoa','van','su','dia','sinh','gdcd','nn']\n",
    "bins = [-np.inf, 5, 6.5, 7, 9, np.inf]\n",
    "labels = ['Kem','TrungBinh','Kha','Gioi','XuatSac']\n",
    "df_levels = pd.DataFrame({\n",
    "    f'{mon}_level': pd.cut(df[mon], bins=bins, labels=labels, right=False)\n",
    "    for mon in subjects\n",
    "}, index=df.index)"
   ]
  },
  {
   "cell_type": "markdown",
   "id": "a1d9667e",
   "metadata": {},
   "source": [
    "## 4. Khai phá luật kết hợp (Association Rules) <a id=\"section-rules\"></a>\n",
    "\n",
    "1. One-hot encode các cột mức độ (`level`)  \n",
    "2. Áp dụng `apriori` để tìm mục frequent itemsets  \n",
    "3. Sinh luật với `association_rules`  \n",
    "4. Lọc theo `min_support` & `min_confidence`"
   ]
  },
  {
   "cell_type": "code",
   "execution_count": null,
   "id": "0646b36a",
   "metadata": {},
   "outputs": [],
   "source": [
    "def process_subset(df_subset, plot_subjs, min_supp, title):\n",
    "    # a) Join subset với các cột level\n",
    "    df2 = pd.concat([df_subset, df_levels.loc[df_subset.index]], axis=1)\n",
    "\n",
    "    # b) One-hot encode tất cả các cột mức độ\n",
    "    cats_all = [f'{mon}_level' for mon in subjects]\n",
    "    df_bool  = pd.get_dummies(df2[cats_all], prefix_sep='=')\n",
    "\n",
    "    # c) Apriori/FP-Growth và sinh luật\n",
    "    freq  = apriori(df_bool, min_support=min_supp, use_colnames=True)\n",
    "\n",
    "    # d) Tính % cho stacked-bar (vectorized)\n",
    "    lvl_cols = [f'{subj}_level' for subj in plot_subjs]\n",
    "    pct = df2[lvl_cols].apply(\n",
    "        lambda col: col.value_counts(normalize=True)\n",
    "                       .reindex(labels, fill_value=0) * 100\n",
    "    )\n",
    "\n",
    "    # e) Vẽ stacked-bar\n",
    "    ind    = np.arange(len(plot_subjs))\n",
    "    bottom = np.zeros(len(plot_subjs))\n",
    "    plt.figure(figsize=(8,5))\n",
    "    for lvl in labels:\n",
    "        vals = pct.loc[lvl].values\n",
    "        plt.bar(ind, vals, bottom=bottom, label=lvl)\n",
    "        bottom += vals\n",
    "    plt.xticks(ind, plot_subjs, rotation=45)\n",
    "    plt.ylabel('Tỷ lệ (%)')\n",
    "    plt.title(title)\n",
    "    plt.legend(title='Cấp độ', bbox_to_anchor=(1.05,1), loc='upper left')\n",
    "    plt.tight_layout()\n",
    "    plt.show()\n",
    "\n",
    "    return freq"
   ]
  },
  {
   "cell_type": "markdown",
   "id": "49c0d7ff",
   "metadata": {},
   "source": [
    "## 5. Trực quan phân bố cấp độ <a id=\"section-visual\"></a>\n",
    "\n",
    "- Vẽ biểu đồ stacked-bar so sánh tỷ lệ từng cấp độ theo môn  \n",
    "- Chạy riêng cho KHTN và KHXH để dễ so sánh  \n",
    "- Màu sắc & chú thích rõ ràng, trực quan"
   ]
  },
  {
   "cell_type": "code",
   "execution_count": null,
   "id": "ec0036a1",
   "metadata": {},
   "outputs": [
    {
     "data": {
      "image/png": "[encoded data removed]",
      "text/plain": [
       "<Figure size 800x500 with 1 Axes>"
      ]
     },
     "metadata": {},
     "output_type": "display_data"
    }
   ],
   "source": [
    "# 4) Run for KHTN and KHXH\n",
    "freq_khtn = process_subset(\n",
    "    df_khtn,\n",
    "    plot_subjs=['toan','ly','hoa','van','sinh','nn'],\n",
    "    min_supp=0.1,\n",
    "    title='Phân bố & Rules – KHTN'\n",
    ")"
   ]
  },
  {
   "cell_type": "code",
   "execution_count": null,
   "id": "0a123119",
   "metadata": {},
   "outputs": [
    {
     "data": {
      "image/png": "[encoded data removed]",
      "text/plain": [
       "<Figure size 800x500 with 1 Axes>"
      ]
     },
     "metadata": {},
     "output_type": "display_data"
    }
   ],
   "source": [
    "freq_khxh = process_subset(\n",
    "    df_khxh,\n",
    "    plot_subjs=['toan','van','su','dia','gdcd','nn'],\n",
    "    min_supp=0.1,\n",
    "    title='Phân bố & Rules – KHXH'\n",
    ")"
   ]
  },
  {
   "cell_type": "code",
   "execution_count": null,
   "id": "48766df8",
   "metadata": {},
   "outputs": [],
   "source": [
    "rules_khtn = association_rules(freq_khtn, metric=\"confidence\", min_threshold=0.8)\n",
    "rules_khxh = association_rules(freq_khxh, metric=\"confidence\", min_threshold=0.8)"
   ]
  },
  {
   "cell_type": "markdown",
   "id": "5bbc7ba8",
   "metadata": {},
   "source": [
    "## 6. Kết quả <a id=\"section-conclude\"></a>\n",
    "\n",
    "- Top rules quan trọng nhất cho KHTN & KHXH  "
   ]
  },
  {
   "cell_type": "code",
   "execution_count": null,
   "id": "82254a7f",
   "metadata": {},
   "outputs": [
    {
     "name": "stdout",
     "output_type": "stream",
     "text": [
      "=== Top 10 KHTN Rules ===\n",
      "|    | antecedents                                           | consequents                    |   support |   confidence |    lift |\n",
      "|---:|:------------------------------------------------------|:-------------------------------|----------:|-------------:|--------:|\n",
      "|  3 | frozenset({'ly_level=Gioi', 'hoa_level=Gioi'})        | frozenset({'toan_level=Gioi'}) |  0.174235 |     0.847274 | 1.39663 |\n",
      "|  6 | frozenset({'hoa_level=Gioi', 'van_level=Gioi'})       | frozenset({'toan_level=Gioi'}) |  0.144972 |     0.840808 | 1.38597 |\n",
      "|  4 | frozenset({'ly_level=Gioi', 'van_level=Gioi'})        | frozenset({'toan_level=Gioi'}) |  0.147123 |     0.838637 | 1.38239 |\n",
      "|  1 | frozenset({'hoa_level=Gioi'})                         | frozenset({'toan_level=Gioi'}) |  0.294119 |     0.820209 | 1.35202 |\n",
      "|  5 | frozenset({'ly_level=Gioi', 'sinh_level=TrungBinh'})  | frozenset({'toan_level=Gioi'}) |  0.120963 |     0.819765 | 1.35129 |\n",
      "|  0 | frozenset({'ly_level=Gioi'})                          | frozenset({'toan_level=Gioi'}) |  0.304479 |     0.819665 | 1.35112 |\n",
      "|  7 | frozenset({'hoa_level=Gioi', 'sinh_level=TrungBinh'}) | frozenset({'toan_level=Gioi'}) |  0.105207 |     0.815418 | 1.34412 |\n",
      "|  2 | frozenset({'sinh_level=Gioi'})                        | frozenset({'toan_level=Gioi'}) |  0.122527 |     0.800912 | 1.32021 |\n",
      "\n",
      "=== Top 10 KHXH Rules ===\n",
      "|    | antecedents                                                          | consequents                 |   support |   confidence |    lift |\n",
      "|---:|:---------------------------------------------------------------------|:----------------------------|----------:|-------------:|--------:|\n",
      "|  4 | frozenset({'van_level=Kem', 'toan_level=Kem'})                       | frozenset({'nn_level=Kem'}) |  0.103976 |     0.962749 | 1.4785  |\n",
      "|  9 | frozenset({'van_level=Kem', 'su_level=Kem'})                         | frozenset({'nn_level=Kem'}) |  0.106375 |     0.951511 | 1.46124 |\n",
      "|  6 | frozenset({'toan_level=Kem', 'su_level=Kem'})                        | frozenset({'nn_level=Kem'}) |  0.213621 |     0.945365 | 1.4518  |\n",
      "| 14 | frozenset({'toan_level=Kem', 'dia_level=TrungBinh', 'su_level=Kem'}) | frozenset({'nn_level=Kem'}) |  0.104096 |     0.944287 | 1.45015 |\n",
      "| 15 | frozenset({'toan_level=Kem', 'gdcd_level=Gioi', 'su_level=Kem'})     | frozenset({'nn_level=Kem'}) |  0.10845  |     0.929833 | 1.42795 |\n",
      "|  1 | frozenset({'van_level=Kem'})                                         | frozenset({'nn_level=Kem'}) |  0.134314 |     0.928155 | 1.42537 |\n",
      "|  7 | frozenset({'toan_level=Kem', 'dia_level=TrungBinh'})                 | frozenset({'nn_level=Kem'}) |  0.140711 |     0.926455 | 1.42276 |\n",
      "|  5 | frozenset({'toan_level=Kem', 'van_level=TrungBinh'})                 | frozenset({'nn_level=Kem'}) |  0.129586 |     0.92373  | 1.41858 |\n",
      "|  0 | frozenset({'toan_level=Kem'})                                        | frozenset({'nn_level=Kem'}) |  0.314167 |     0.913616 | 1.40305 |\n",
      "|  8 | frozenset({'toan_level=Kem', 'gdcd_level=Gioi'})                     | frozenset({'nn_level=Kem'}) |  0.178673 |     0.899749 | 1.38175 |\n"
     ]
    }
   ],
   "source": [
    "# 5) Display top 10 rules each\n",
    "print(\"=== Top 10 KHTN Rules ===\")\n",
    "print(rules_khtn.sort_values('lift', ascending=False)\n",
    "      [['antecedents','consequents','support','confidence','lift']]\n",
    "      .head(10).to_markdown())\n",
    "\n",
    "print(\"\\n=== Top 10 KHXH Rules ===\")\n",
    "print(rules_khxh.sort_values('lift', ascending=False)\n",
    "      [['antecedents','consequents','support','confidence','lift']]\n",
    "      .head(10).to_markdown())\n"
   ]
  },
  {
   "cell_type": "markdown",
   "id": "a4c43932",
   "metadata": {},
   "source": [
    "\n",
    "**Nhận xét KHTN**  \n",
    "- Học sinh giỏi **Lý + Hóa** có đến ~84.7 % khả năng giỏi Toán (lift ~1.40 so với ngẫu nhiên).  \n",
    "- Chỉ cần giỏi **Hóa** hoặc **Lý** hoặc **Văn** riêng lẻ đã cho confidence ~82 %.  \n",
    "- Sinh học ở mức **Kha**/“TrungBình” kết hợp nhẹ với Toán giỏi (lift ~1.32–1.35).\n",
    "\n",
    "> **Kết luận**: Để cải thiện Toán, nên tập trung song hành với Lý–Hóa.\n",
    "\n",
    "**Nhận xét KHXH**  \n",
    "- Điểm **kém** Toán + Văn ⇒ kém Ngoại ngữ cực mạnh (confidence ~96 %).  \n",
    "- Chỉ kém Toán vẫn cho ~91 % khả năng kém Ngoại ngữ (lift ~1.40).  \n",
    "- Thêm “kém Sử/Địa” đẩy confidence lên ~94–96 %.\n",
    "\n",
    "> **Kết luận**: Khối XH nên ưu tiên củng cố Toán + Văn để tránh kéo điểm Ngoại ngữ xuống.\n",
    "\n",
    "---\n",
    "\n",
    "## Tổng kết\n",
    "\n",
    "1. **Khối tự nhiên**: Toán/Lý/Hóa gắn chặt, giỏi môn nọ thường kèm giỏi môn kia.  \n",
    "2. **Khối xã hội**: Kém môn cốt lõi (Toán, Văn, Sử, Địa) là dấu hiệu rất mạnh cho việc kém Ngoại ngữ."
   ]
  }
 ],
 "metadata": {
  "kernelspec": {
   "display_name": "Python 3",
   "language": "python",
   "name": "python3"
  },
  "language_info": {
   "codemirror_mode": {
    "name": "ipython",
    "version": 3
   },
   "file_extension": ".py",
   "mimetype": "text/x-python",
   "name": "python",
   "nbconvert_exporter": "python",
   "pygments_lexer": "ipython3",
   "version": "3.12.0"
  }
 },
 "nbformat": 4,
 "nbformat_minor": 5
}
