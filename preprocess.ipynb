{
 "cells": [
  {
   "cell_type": "code",
   "execution_count": 1,
   "id": "88285541",
   "metadata": {},
   "outputs": [],
   "source": [
    "import pandas as pd\n",
    "import seaborn as sns\n",
    "import matplotlib.pyplot as plt\n",
    "from sklearn.linear_model import LinearRegression\n",
    "from sklearn.model_selection import train_test_split\n",
    "from sklearn.metrics import r2_score, root_mean_squared_error\n",
    "import warnings\n",
    "warnings.filterwarnings('ignore')"
   ]
  },
  {
   "cell_type": "code",
   "execution_count": null,
   "id": "331cc2a9",
   "metadata": {},
   "outputs": [],
   "source": [
    "# Đọc dữ liệu\n",
    "df = pd.read_csv(\"datasets/du_lieu_diem_thi_2017_2024.csv\")\n",
    "\n",
    "# Đổi tên cột cho dễ làm việc\n",
    "df.columns = ['nam', 'ma_tinh', 'sbd', 'toan', 'van', 'ly', 'hoa', 'sinh', 'su', 'dia', 'gdcd', 'nn', 'ma_nn', 'tong_diem', 'khoi_a', 'khoi_a1', 'khoi_b', 'khoi_c', 'khoi_d']\n",
    "\n",
    "# Chuyển các cột điểm về kiểu số\n",
    "cols_diem = ['toan', 'van', 'ly', 'hoa', 'sinh', 'su', 'dia', 'gdcd', 'nn', 'tong_diem', 'khoi_a', 'khoi_a1', 'khoi_b', 'khoi_c', 'khoi_d']\n",
    "df[cols_diem] = df[cols_diem].apply(pd.to_numeric, errors = 'coerce')\n",
    "\n",
    "# Tạo cột tỉnh từ mã tỉnh\n",
    "ma_tinh = {\n",
    "    '01': 'Hà Nội', '02': 'TP. Hồ Chí Minh', '03': 'Hải Phòng', '04': 'Đà Nẵng',\n",
    "    '05': 'Hà Giang', '06': 'Cao Bằng', '07': 'Lai Châu', '08': 'Lào Cai',\n",
    "    '09': 'Tuyên Quang', '10': 'Lạng Sơn', '11': 'Bắc Kạn', '12': 'Thái Nguyên',\n",
    "    '13': 'Yên Bái', '14': 'Sơn La', '15': 'Phú Thọ', '16': 'Vĩnh Phúc',\n",
    "    '17': 'Quảng Ninh', '18': 'Bắc Giang', '19': 'Bắc Ninh', '21': 'Hải Dương',\n",
    "    '22': 'Hưng Yên', '23': 'Hòa Bình', '24': 'Hà Nam', '25': 'Nam Định',\n",
    "    '26': 'Thái Bình', '27': 'Ninh Bình', '28': 'Thanh Hóa', '29': 'Nghệ An',\n",
    "    '30': 'Hà Tĩnh', '31': 'Quảng Bình', '32': 'Quảng Trị', '33': 'Thừa Thiên-Huế',\n",
    "    '34': 'Quảng Nam', '35': 'Quảng Ngãi', '36': 'Kon Tum', '37': 'Bình Định',\n",
    "    '38': 'Gia Lai', '39': 'Phú Yên', '40': 'Đắk Lắk', '41': 'Khánh Hòa',\n",
    "    '42': 'Lâm Đồng', '43': 'Bình Phước', '44': 'Bình Dương', '45': 'Ninh Thuận',\n",
    "    '46': 'Tây Ninh', '47': 'Bình Thuận', '48': 'Đồng Nai', '49': 'Long An',\n",
    "    '50': 'Đồng Tháp', '51': 'An Giang', '52': 'Bà Rịa-Vũng Tàu', '53': 'Tiền Giang',\n",
    "    '54': 'Kiên Giang', '55': 'Cần Thơ', '56': 'Bến Tre', '57': 'Vĩnh Long',\n",
    "    '58': 'Trà Vinh', '59': 'Sóc Trăng', '60': 'Bạc Liêu', '61': 'Cà Mau',\n",
    "    '62': 'Điện Biên', '63': 'Đắk Nông', '64': 'Hậu Giang'\n",
    "}\n",
    "\n",
    "df['ma_tinh_str'] = df['ma_tinh'].astype(str).str.zfill(2)\n",
    "df['tinh'] = df['ma_tinh_str'].map(ma_tinh)"
   ]
  },
  {
   "cell_type": "code",
   "execution_count": 10,
   "id": "03c4390c",
   "metadata": {},
   "outputs": [
    {
     "name": "stdout",
     "output_type": "stream",
     "text": [
      "Số dòng ban đầu: 7609969\n",
      "Số dòng sau khi loại bỏ dòng không có điểm Toán, Văn, Ngoại ngữ: 6629910\n",
      "Số dòng sau khi lọc học sinh không có tổng điểm: 6579989\n",
      "Số dòng sau khi loại bỏ dòng trùng lặp: 6569125\n"
     ]
    }
   ],
   "source": [
    "print(\"Số dòng ban đầu:\", len(df))\n",
    "\n",
    "# Loại bỏ dòng không có điểm Toán, Văn, Ngoại ngữ (3 Môn thi bắt buộc nên nếu không có thì khả năng cao là không hợp lệ)\n",
    "df = df[df[['toan', 'van', 'nn']].notna().all(axis = 1)]\n",
    "print(\"Số dòng sau khi loại bỏ dòng không có điểm Toán, Văn, Ngoại ngữ:\", len(df))\n",
    "\n",
    "# Lọc học sinh không có tổng điểm\n",
    "df = df[df['tong_diem'].notna()]\n",
    "print(f\"Số dòng sau khi lọc học sinh không có tổng điểm: {len(df)}\")\n",
    "\n",
    "# Kiểm tra và loại bỏ dòng trùng lặp\n",
    "df = df.drop_duplicates()\n",
    "print(f\"Số dòng sau khi loại bỏ dòng trùng lặp: {len(df)}\")"
   ]
  }
 ],
 "metadata": {
  "kernelspec": {
   "display_name": ".venv",
   "language": "python",
   "name": "python3"
  },
  "language_info": {
   "codemirror_mode": {
    "name": "ipython",
    "version": 3
   },
   "file_extension": ".py",
   "mimetype": "text/x-python",
   "name": "python",
   "nbconvert_exporter": "python",
   "pygments_lexer": "ipython3",
   "version": "3.12.8"
  }
 },
 "nbformat": 4,
 "nbformat_minor": 5
}
