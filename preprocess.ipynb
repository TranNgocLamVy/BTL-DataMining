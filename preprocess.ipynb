{
 "cells": [
  {
   "cell_type": "code",
   "execution_count": 1,
   "id": "88285541",
   "metadata": {},
   "outputs": [],
   "source": [
    "import pandas as pd\n",
    "import seaborn as sns\n",
    "import matplotlib.pyplot as plt\n",
    "from sklearn.linear_model import LinearRegression\n",
    "from sklearn.model_selection import train_test_split\n",
    "from sklearn.metrics import r2_score, root_mean_squared_error\n",
    "import warnings\n",
    "warnings.filterwarnings('ignore')"
   ]
  },
  {
   "cell_type": "code",
   "execution_count": null,
   "id": "331cc2a9",
   "metadata": {},
   "outputs": [
    {
     "name": "stdout",
     "output_type": "stream",
     "text": [
      "                nam       ma_tinh           sbd          toan           van  \\\n",
      "count  7.521687e+06  7.521687e+06  7.521687e+06  7.521687e+06  7.398787e+06   \n",
      "mean   2.064743e+01  2.768693e+01  1.442282e+04  6.038005e+00  6.306174e+00   \n",
      "std    2.298010e+00  1.907110e+01  1.829230e+04  1.807357e+00  1.502645e+00   \n",
      "min    1.700000e+01  1.000000e+00  1.000000e+00  0.000000e+00  0.000000e+00   \n",
      "25%    1.900000e+01  1.000000e+01  3.852000e+03  4.800000e+00  5.250000e+00   \n",
      "50%    2.100000e+01  2.800000e+01  8.138000e+03  6.200000e+00  6.500000e+00   \n",
      "75%    2.300000e+01  4.400000e+01  1.518800e+04  7.600000e+00  7.500000e+00   \n",
      "max    2.400000e+01  6.400000e+01  1.085730e+05  1.000000e+01  1.000000e+01   \n",
      "\n",
      "                 ly           hoa          sinh            su           dia  \\\n",
      "count  2.766132e+06  2.782345e+06  2.734189e+06  4.827850e+06  4.765295e+06   \n",
      "mean   6.090403e+00  6.072889e+00  5.317925e+00  5.285585e+00  6.456478e+00   \n",
      "std    1.699159e+00  1.796459e+00  1.498916e+00  1.794848e+00  1.348000e+00   \n",
      "min    0.000000e+00  0.000000e+00  0.000000e+00  0.000000e+00  0.000000e+00   \n",
      "25%    5.000000e+00  4.750000e+00  4.250000e+00  4.000000e+00  5.500000e+00   \n",
      "50%    6.250000e+00  6.250000e+00  5.250000e+00  5.250000e+00  6.500000e+00   \n",
      "75%    7.500000e+00  7.500000e+00  6.250000e+00  6.500000e+00  7.500000e+00   \n",
      "max    1.000000e+01  1.000000e+01  1.000000e+01  1.000000e+01  1.000000e+01   \n",
      "\n",
      "               gdcd            nn     tong_diem        khoi_a       khoi_a1  \\\n",
      "count  4.116373e+06  6.657161e+06  6.598912e+06  2.748064e+06  2.640227e+06   \n",
      "mean   7.931192e+00  4.944936e+00  3.661453e+01  1.925874e+01  1.876198e+01   \n",
      "std    1.203994e+00  1.997858e+00  7.012921e+00  4.284076e+00  4.198596e+00   \n",
      "min    0.000000e+00  0.000000e+00  0.000000e+00  0.000000e+00  0.000000e+00   \n",
      "25%    7.250000e+00  3.400000e+00  3.170000e+01  1.650000e+01  1.590000e+01   \n",
      "50%    8.000000e+00  4.600000e+00  3.690000e+01  1.985000e+01  1.910000e+01   \n",
      "75%    8.750000e+00  6.200000e+00  4.175000e+01  2.250000e+01  2.190000e+01   \n",
      "max    1.000000e+01  1.000000e+01  5.785000e+01  3.000000e+01  2.980000e+01   \n",
      "\n",
      "             khoi_b        khoi_c        khoi_d  \n",
      "count  2.732172e+06  4.761624e+06  6.629910e+06  \n",
      "mean   1.850057e+01  1.798972e+01  1.758276e+01  \n",
      "std    3.931622e+00  3.982394e+00  4.231647e+00  \n",
      "min    0.000000e+00  0.000000e+00  0.000000e+00  \n",
      "25%    1.590000e+01  1.525000e+01  1.450000e+01  \n",
      "50%    1.880000e+01  1.800000e+01  1.760000e+01  \n",
      "75%    2.140000e+01  2.075000e+01  2.070000e+01  \n",
      "max    3.000000e+01  2.975000e+01  2.915000e+01  \n"
     ]
    }
   ],
   "source": [
    "# Đọc dữ liệu\n",
    "df = pd.read_csv(\"datasets/du_lieu_diem_thi_2017_2024.csv\")\n",
    "\n",
    "# Đổi tên cột cho dễ làm việc\n",
    "df.columns = ['nam', 'ma_tinh', 'sbd', 'toan', 'van', 'ly', 'hoa', 'sinh',\n",
    "              'su', 'dia', 'gdcd', 'nn', 'ma_nn', 'tong_diem',\n",
    "              'khoi_a', 'khoi_a1', 'khoi_b', 'khoi_c', 'khoi_d']\n",
    "\n",
    "# Chuyển các cột điểm về kiểu số\n",
    "cols_diem = ['toan', 'van', 'ly', 'hoa', 'sinh', 'su', 'dia', 'gdcd', 'nn',\n",
    "             'tong_diem', 'khoi_a', 'khoi_a1', 'khoi_b', 'khoi_c', 'khoi_d']\n",
    "df[cols_diem] = df[cols_diem].apply(pd.to_numeric, errors = 'coerce')\n",
    "\n",
    "# Loại bỏ dòng không có điểm Toán, Văn, Ngoại ngữ (3 Môn thi bắt buộc nên nếu không có thì khả năng cao là không hợp lệ)\n",
    "df = df[df[['toan', 'van', 'nn']].notna().all(axis = 1)]\n",
    "\n",
    "# Tạo cột tỉnh từ mã tỉnh\n",
    "ma_tinh = {\n",
    "    '01': 'Hà Nội', '02': 'TP. Hồ Chí Minh', '03': 'Hải Phòng', '04': 'Đà Nẵng',\n",
    "    '05': 'Hà Giang', '06': 'Cao Bằng', '07': 'Lai Châu', '08': 'Lào Cai',\n",
    "    '09': 'Tuyên Quang', '10': 'Lạng Sơn', '11': 'Bắc Kạn', '12': 'Thái Nguyên',\n",
    "    '13': 'Yên Bái', '14': 'Sơn La', '15': 'Phú Thọ', '16': 'Vĩnh Phúc',\n",
    "    '17': 'Quảng Ninh', '18': 'Bắc Giang', '19': 'Bắc Ninh', '21': 'Hải Dương',\n",
    "    '22': 'Hưng Yên', '23': 'Hòa Bình', '24': 'Hà Nam', '25': 'Nam Định',\n",
    "    '26': 'Thái Bình', '27': 'Ninh Bình', '28': 'Thanh Hóa', '29': 'Nghệ An',\n",
    "    '30': 'Hà Tĩnh', '31': 'Quảng Bình', '32': 'Quảng Trị', '33': 'Thừa Thiên-Huế',\n",
    "    '34': 'Quảng Nam', '35': 'Quảng Ngãi', '36': 'Kon Tum', '37': 'Bình Định',\n",
    "    '38': 'Gia Lai', '39': 'Phú Yên', '40': 'Đắk Lắk', '41': 'Khánh Hòa',\n",
    "    '42': 'Lâm Đồng', '43': 'Bình Phước', '44': 'Bình Dương', '45': 'Ninh Thuận',\n",
    "    '46': 'Tây Ninh', '47': 'Bình Thuận', '48': 'Đồng Nai', '49': 'Long An',\n",
    "    '50': 'Đồng Tháp', '51': 'An Giang', '52': 'Bà Rịa-Vũng Tàu', '53': 'Tiền Giang',\n",
    "    '54': 'Kiên Giang', '55': 'Cần Thơ', '56': 'Bến Tre', '57': 'Vĩnh Long',\n",
    "    '58': 'Trà Vinh', '59': 'Sóc Trăng', '60': 'Bạc Liêu', '61': 'Cà Mau',\n",
    "    '62': 'Điện Biên', '63': 'Đắk Nông', '64': 'Hậu Giang'\n",
    "}\n",
    "\n",
    "df['ma_tinh_str'] = df['ma_tinh'].astype(str).str.zfill(2)\n",
    "df['tinh'] = df['ma_tinh_str'].map(ma_tinh)\n",
    "\n",
    "print(df.describe())"
   ]
  }
 ],
 "metadata": {
  "kernelspec": {
   "display_name": ".venv",
   "language": "python",
   "name": "python3"
  },
  "language_info": {
   "codemirror_mode": {
    "name": "ipython",
    "version": 3
   },
   "file_extension": ".py",
   "mimetype": "text/x-python",
   "name": "python",
   "nbconvert_exporter": "python",
   "pygments_lexer": "ipython3",
   "version": "3.12.8"
  }
 },
 "nbformat": 4,
 "nbformat_minor": 5
}
